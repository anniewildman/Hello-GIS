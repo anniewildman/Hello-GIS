{
  "nbformat": 4,
  "nbformat_minor": 0,
  "metadata": {
    "colab": {
      "name": "Untitled0.ipyn Scheduled monuments of York",
      "provenance": [],
      "include_colab_link": true
    },
    "kernelspec": {
      "name": "python2",
      "display_name": "Python 2"
    }
  },
  "cells": [
    {
      "cell_type": "markdown",
      "metadata": {
        "id": "view-in-github",
        "colab_type": "text"
      },
      "source": [
        "<a href=\"https://colab.research.google.com/github/anniewildman/Hello-GIS/blob/master/Untitled0_ipyn_Scheduled_monuments_of_York.ipynb\" target=\"_parent\"><img src=\"https://colab.research.google.com/assets/colab-badge.svg\" alt=\"Open In Colab\"/></a>"
      ]
    },
    {
      "cell_type": "code",
      "metadata": {
        "id": "naInp2feEyD_",
        "colab_type": "code",
        "colab": {}
      },
      "source": [
        "import pandas as pd"
      ],
      "execution_count": 0,
      "outputs": []
    },
    {
      "cell_type": "code",
      "metadata": {
        "id": "0sIKv2PYE7IW",
        "colab_type": "code",
        "colab": {}
      },
      "source": [
        "import geopandas as gpd"
      ],
      "execution_count": 0,
      "outputs": []
    },
    {
      "cell_type": "code",
      "metadata": {
        "id": "CcJM3qVVFB2k",
        "colab_type": "code",
        "colab": {}
      },
      "source": [
        "url = \"https://opendata.arcgis.com/datasets/26857683681542b798ef97708cbdaf61_14.geojson\"\n",
        "df = gpd.read_file(url)"
      ],
      "execution_count": 0,
      "outputs": []
    },
    {
      "cell_type": "code",
      "metadata": {
        "id": "XjRNq3GPFuj8",
        "colab_type": "code",
        "colab": {
          "base_uri": "https://localhost:8080/",
          "height": 530
        },
        "outputId": "072cfcec-fcfd-4506-9ce3-6ccfc76c75c6"
      },
      "source": [
        "df.head()"
      ],
      "execution_count": 6,
      "outputs": [
        {
          "output_type": "execute_result",
          "data": {
            "text/html": [
              "<div>\n",
              "<style scoped>\n",
              "    .dataframe tbody tr th:only-of-type {\n",
              "        vertical-align: middle;\n",
              "    }\n",
              "\n",
              "    .dataframe tbody tr th {\n",
              "        vertical-align: top;\n",
              "    }\n",
              "\n",
              "    .dataframe thead th {\n",
              "        text-align: right;\n",
              "    }\n",
              "</style>\n",
              "<table border=\"1\" class=\"dataframe\">\n",
              "  <thead>\n",
              "    <tr style=\"text-align: right;\">\n",
              "      <th></th>\n",
              "      <th>DesigUID</th>\n",
              "      <th>RecordType</th>\n",
              "      <th>Name</th>\n",
              "      <th>PrefRef</th>\n",
              "      <th>StatusDate</th>\n",
              "      <th>DeStatusDate</th>\n",
              "      <th>AmendDate</th>\n",
              "      <th>WhenCreated</th>\n",
              "      <th>CreatedBy</th>\n",
              "      <th>WhenLastEdited</th>\n",
              "      <th>LastEditedBy</th>\n",
              "      <th>MI_PRINX</th>\n",
              "      <th>xgGeometryType</th>\n",
              "      <th>MI_STYLE</th>\n",
              "      <th>ESRI_OID</th>\n",
              "      <th>geometry</th>\n",
              "    </tr>\n",
              "  </thead>\n",
              "  <tbody>\n",
              "    <tr>\n",
              "      <th>0</th>\n",
              "      <td>DYO1584</td>\n",
              "      <td>SAM</td>\n",
              "      <td>St Mary's Abbey</td>\n",
              "      <td>1004919</td>\n",
              "      <td>None</td>\n",
              "      <td>None</td>\n",
              "      <td>None</td>\n",
              "      <td>None</td>\n",
              "      <td>None</td>\n",
              "      <td>2011-04-14T15:49:02</td>\n",
              "      <td>dpdaejo</td>\n",
              "      <td>2964</td>\n",
              "      <td>1</td>\n",
              "      <td>None</td>\n",
              "      <td>1</td>\n",
              "      <td>POINT (-1.087961895892347 53.96216199067837)</td>\n",
              "    </tr>\n",
              "    <tr>\n",
              "      <th>1</th>\n",
              "      <td>DYO1585</td>\n",
              "      <td>SAM</td>\n",
              "      <td>St Mary's Abbey precinct walls</td>\n",
              "      <td>1004920</td>\n",
              "      <td>None</td>\n",
              "      <td>None</td>\n",
              "      <td>None</td>\n",
              "      <td>None</td>\n",
              "      <td>None</td>\n",
              "      <td>2011-09-15T15:50:14</td>\n",
              "      <td>dpdaejo</td>\n",
              "      <td>2965</td>\n",
              "      <td>1</td>\n",
              "      <td>None</td>\n",
              "      <td>2</td>\n",
              "      <td>POINT (-1.090469264953805 53.96141737270922)</td>\n",
              "    </tr>\n",
              "    <tr>\n",
              "      <th>2</th>\n",
              "      <td>DYO1585</td>\n",
              "      <td>SAM</td>\n",
              "      <td>St Mary's Abbey precinct walls</td>\n",
              "      <td>1004920</td>\n",
              "      <td>None</td>\n",
              "      <td>None</td>\n",
              "      <td>None</td>\n",
              "      <td>None</td>\n",
              "      <td>None</td>\n",
              "      <td>2011-09-15T15:50:14</td>\n",
              "      <td>dpdaejo</td>\n",
              "      <td>2966</td>\n",
              "      <td>1</td>\n",
              "      <td>None</td>\n",
              "      <td>2</td>\n",
              "      <td>POINT (-1.090695885850123 53.96106374926418)</td>\n",
              "    </tr>\n",
              "    <tr>\n",
              "      <th>3</th>\n",
              "      <td>DYO1585</td>\n",
              "      <td>SAM</td>\n",
              "      <td>St Mary's Abbey precinct walls</td>\n",
              "      <td>1004920</td>\n",
              "      <td>None</td>\n",
              "      <td>None</td>\n",
              "      <td>None</td>\n",
              "      <td>None</td>\n",
              "      <td>None</td>\n",
              "      <td>2011-09-15T15:50:14</td>\n",
              "      <td>dpdaejo</td>\n",
              "      <td>2967</td>\n",
              "      <td>1</td>\n",
              "      <td>None</td>\n",
              "      <td>2</td>\n",
              "      <td>POINT (-1.087221720872897 53.96366617873901)</td>\n",
              "    </tr>\n",
              "    <tr>\n",
              "      <th>4</th>\n",
              "      <td>DYO1585</td>\n",
              "      <td>SAM</td>\n",
              "      <td>St Mary's Abbey precinct walls</td>\n",
              "      <td>1004920</td>\n",
              "      <td>None</td>\n",
              "      <td>None</td>\n",
              "      <td>None</td>\n",
              "      <td>None</td>\n",
              "      <td>None</td>\n",
              "      <td>2011-09-15T15:50:14</td>\n",
              "      <td>dpdaejo</td>\n",
              "      <td>2968</td>\n",
              "      <td>1</td>\n",
              "      <td>None</td>\n",
              "      <td>2</td>\n",
              "      <td>POINT (-1.085549934072372 53.96288131602216)</td>\n",
              "    </tr>\n",
              "  </tbody>\n",
              "</table>\n",
              "</div>"
            ],
            "text/plain": [
              "  DesigUID RecordType  ... ESRI_OID                                      geometry\n",
              "0  DYO1584        SAM  ...        1  POINT (-1.087961895892347 53.96216199067837)\n",
              "1  DYO1585        SAM  ...        2  POINT (-1.090469264953805 53.96141737270922)\n",
              "2  DYO1585        SAM  ...        2  POINT (-1.090695885850123 53.96106374926418)\n",
              "3  DYO1585        SAM  ...        2  POINT (-1.087221720872897 53.96366617873901)\n",
              "4  DYO1585        SAM  ...        2  POINT (-1.085549934072372 53.96288131602216)\n",
              "\n",
              "[5 rows x 16 columns]"
            ]
          },
          "metadata": {
            "tags": []
          },
          "execution_count": 6
        }
      ]
    },
    {
      "cell_type": "code",
      "metadata": {
        "id": "sS65e1c2F5Y7",
        "colab_type": "code",
        "colab": {
          "base_uri": "https://localhost:8080/",
          "height": 207
        },
        "outputId": "85b7faee-0405-413d-e19d-ea7f937f22f7"
      },
      "source": [
        "df.plot()"
      ],
      "execution_count": 7,
      "outputs": [
        {
          "output_type": "execute_result",
          "data": {
            "text/plain": [
              "<matplotlib.axes._subplots.AxesSubplot at 0x7f05ec669f50>"
            ]
          },
          "metadata": {
            "tags": []
          },
          "execution_count": 7
        },
        {
          "output_type": "display_data",
          "data": {
            "image/png": "[encoded data removed]",
            "text/plain": [
              "<Figure size 432x288 with 1 Axes>"
            ]
          },
          "metadata": {
            "tags": []
          }
        }
      ]
    }
  ]
}
{
  "nbformat": 4,
  "nbformat_minor": 0,
  "metadata": {
    "colab": {
      "name": "Northern Ireland coastal shipwrecks ",
      "provenance": [],
      "include_colab_link": true
    },
    "kernelspec": {
      "name": "python3",
      "display_name": "Python 3"
    }
  },
  "cells": [
    {
      "cell_type": "markdown",
      "metadata": {
        "id": "view-in-github",
        "colab_type": "text"
      },
      "source": [
        "<a href=\"https://colab.research.google.com/github/anniewildman/Hello-GIS/blob/master/Northern_Ireland_coastal_shipwrecks.ipynb\" target=\"_parent\"><img src=\"https://colab.research.google.com/assets/colab-badge.svg\" alt=\"Open In Colab\"/></a>"
      ]
    },
    {
      "cell_type": "code",
      "metadata": {
        "id": "1s6aoWevIoJs",
        "colab_type": "code",
        "colab": {}
      },
      "source": [
        "import pandas as pd"
      ],
      "execution_count": 0,
      "outputs": []
    },
    {
      "cell_type": "code",
      "metadata": {
        "id": "AN1OHfm-IrnC",
        "colab_type": "code",
        "colab": {
          "base_uri": "https://localhost:8080/",
          "height": 547
        },
        "outputId": "f1520ffb-5ce9-4a40-ee7f-84c5e2158f9d"
      },
      "source": [
        "!pip install geopandas\n",
        "import geopandas as gpd\n"
      ],
      "execution_count": 5,
      "outputs": [
        {
          "output_type": "stream",
          "text": [
            "Collecting geopandas\n",
            "\u001b[?25l  Downloading https://files.pythonhosted.org/packages/59/39/de0263d511d4fc35a640cf00d02e497eb60698315a22936bedbdd904d7f7/geopandas-0.6.1-py2.py3-none-any.whl (918kB)\n",
            "\u001b[K     |████████████████████████████████| 921kB 4.2MB/s \n",
            "\u001b[?25hRequirement already satisfied: shapely in /usr/local/lib/python3.6/dist-packages (from geopandas) (1.6.4.post2)\n",
            "Requirement already satisfied: pandas>=0.23.0 in /usr/local/lib/python3.6/dist-packages (from geopandas) (0.24.2)\n",
            "Collecting fiona (from geopandas)\n",
            "\u001b[?25l  Downloading https://files.pythonhosted.org/packages/1e/cf/a1f22d87223cb4f48beecf4de6eb59e5261a7d0d073489bbe7cfe6514ae3/Fiona-1.8.8-1-cp36-cp36m-manylinux1_x86_64.whl (11.9MB)\n",
            "\u001b[K     |████████████████████████████████| 11.9MB 46.2MB/s \n",
            "\u001b[?25hCollecting pyproj (from geopandas)\n",
            "\u001b[?25l  Downloading https://files.pythonhosted.org/packages/7a/b1/ab67ad924770e1c1432fa0953a665b8ea193b60c7494457b69da052d6e83/pyproj-2.4.0-cp36-cp36m-manylinux1_x86_64.whl (10.1MB)\n",
            "\u001b[K     |████████████████████████████████| 10.1MB 37.4MB/s \n",
            "\u001b[?25hRequirement already satisfied: numpy>=1.12.0 in /usr/local/lib/python3.6/dist-packages (from pandas>=0.23.0->geopandas) (1.16.5)\n",
            "Requirement already satisfied: python-dateutil>=2.5.0 in /usr/local/lib/python3.6/dist-packages (from pandas>=0.23.0->geopandas) (2.5.3)\n",
            "Requirement already satisfied: pytz>=2011k in /usr/local/lib/python3.6/dist-packages (from pandas>=0.23.0->geopandas) (2018.9)\n",
            "Collecting click-plugins>=1.0 (from fiona->geopandas)\n",
            "  Downloading https://files.pythonhosted.org/packages/e9/da/824b92d9942f4e472702488857914bdd50f73021efea15b4cad9aca8ecef/click_plugins-1.1.1-py2.py3-none-any.whl\n",
            "Collecting munch (from fiona->geopandas)\n",
            "  Downloading https://files.pythonhosted.org/packages/68/f4/260ec98ea840757a0da09e0ed8135333d59b8dfebe9752a365b04857660a/munch-2.3.2.tar.gz\n",
            "Requirement already satisfied: six>=1.7 in /usr/local/lib/python3.6/dist-packages (from fiona->geopandas) (1.12.0)\n",
            "Requirement already satisfied: attrs>=17 in /usr/local/lib/python3.6/dist-packages (from fiona->geopandas) (19.2.0)\n",
            "Requirement already satisfied: click<8,>=4.0 in /usr/local/lib/python3.6/dist-packages (from fiona->geopandas) (7.0)\n",
            "Collecting cligj>=0.5 (from fiona->geopandas)\n",
            "  Downloading https://files.pythonhosted.org/packages/e4/be/30a58b4b0733850280d01f8bd132591b4668ed5c7046761098d665ac2174/cligj-0.5.0-py3-none-any.whl\n",
            "Building wheels for collected packages: munch\n",
            "  Building wheel for munch (setup.py) ... \u001b[?25l\u001b[?25hdone\n",
            "  Created wheel for munch: filename=munch-2.3.2-py2.py3-none-any.whl size=6614 sha256=cd1fd3ee52752e0aa52626f040ec8cee1fcfb6652f484cfb0a4c11ba85dc948e\n",
            "  Stored in directory: /root/.cache/pip/wheels/db/bf/bc/06a3e1bfe0ab27d2e720ceb3cff3159398d92644c0cec2c125\n",
            "Successfully built munch\n",
            "Installing collected packages: click-plugins, munch, cligj, fiona, pyproj, geopandas\n",
            "Successfully installed click-plugins-1.1.1 cligj-0.5.0 fiona-1.8.8 geopandas-0.6.1 munch-2.3.2 pyproj-2.4.0\n"
          ],
          "name": "stdout"
        }
      ]
    },
    {
      "cell_type": "code",
      "metadata": {
        "id": "rNqIKHaPLPA5",
        "colab_type": "code",
        "colab": {}
      },
      "source": [
        "url = \"https://www.opendatani.gov.uk/dataset/c5fceed7-b07a-4bc4-a0a0-8c45b9033083/resource/2d8da801-39f7-48b7-81ad-8db58d107962/download/protected_wrecks.geojson\"\n",
        "df = gpd.read_file(url)"
      ],
      "execution_count": 0,
      "outputs": []
    },
    {
      "cell_type": "code",
      "metadata": {
        "id": "kpEUx6gXLco7",
        "colab_type": "code",
        "colab": {
          "base_uri": "https://localhost:8080/",
          "height": 547
        },
        "outputId": "af814257-ac29-4dac-b9c3-da8c465e2ed5"
      },
      "source": [
        "df.head()"
      ],
      "execution_count": 16,
      "outputs": [
        {
          "output_type": "execute_result",
          "data": {
            "text/html": [
              "<div>\n",
              "<style scoped>\n",
              "    .dataframe tbody tr th:only-of-type {\n",
              "        vertical-align: middle;\n",
              "    }\n",
              "\n",
              "    .dataframe tbody tr th {\n",
              "        vertical-align: top;\n",
              "    }\n",
              "\n",
              "    .dataframe thead th {\n",
              "        text-align: right;\n",
              "    }\n",
              "</style>\n",
              "<table border=\"1\" class=\"dataframe\">\n",
              "  <thead>\n",
              "    <tr style=\"text-align: right;\">\n",
              "      <th></th>\n",
              "      <th>Name</th>\n",
              "      <th>Date_lost</th>\n",
              "      <th>Type</th>\n",
              "      <th>Cargo</th>\n",
              "      <th>Depth</th>\n",
              "      <th>Position_q</th>\n",
              "      <th>Condition</th>\n",
              "      <th>Ref</th>\n",
              "      <th>Status</th>\n",
              "      <th>Notes</th>\n",
              "      <th>Position_n</th>\n",
              "      <th>Condit_not</th>\n",
              "      <th>Survey</th>\n",
              "      <th>UKHO_no</th>\n",
              "      <th>X_Coord</th>\n",
              "      <th>Y_Coord</th>\n",
              "      <th>Updated</th>\n",
              "      <th>Nation</th>\n",
              "      <th>How_lost</th>\n",
              "      <th>Legislatio</th>\n",
              "      <th>Notes_1</th>\n",
              "      <th>Origin</th>\n",
              "      <th>Where_lost</th>\n",
              "      <th>geometry</th>\n",
              "    </tr>\n",
              "  </thead>\n",
              "  <tbody>\n",
              "    <tr>\n",
              "      <th>0</th>\n",
              "      <td>Ailsa</td>\n",
              "      <td>26/02/1892</td>\n",
              "      <td>Steamship (British)</td>\n",
              "      <td>General</td>\n",
              "      <td>1-5m</td>\n",
              "      <td>Reasonable</td>\n",
              "      <td>Badly broken up, part of wreck is onshore</td>\n",
              "      <td>UKHO, IRW, CMA</td>\n",
              "      <td>LIVE</td>\n",
              "      <td>None</td>\n",
              "      <td>UKHO position</td>\n",
              "      <td>Sport diver, UKHO</td>\n",
              "      <td>None</td>\n",
              "      <td>5273</td>\n",
              "      <td>-5.738217</td>\n",
              "      <td>54.852500</td>\n",
              "      <td>None</td>\n",
              "      <td>None</td>\n",
              "      <td>None</td>\n",
              "      <td>None</td>\n",
              "      <td>None</td>\n",
              "      <td>None</td>\n",
              "      <td>None</td>\n",
              "      <td>POINT (-5.73822 54.85250)</td>\n",
              "    </tr>\n",
              "    <tr>\n",
              "      <th>1</th>\n",
              "      <td>(ex HMS) Alastor</td>\n",
              "      <td>11/03/1946</td>\n",
              "      <td>Corvette / Motor yacht (British)</td>\n",
              "      <td>None</td>\n",
              "      <td>10-23m</td>\n",
              "      <td>Accurate</td>\n",
              "      <td>Llargely intact with upright funnel. Wooden de...</td>\n",
              "      <td>UKHO, IRW, CMA</td>\n",
              "      <td>LIVE</td>\n",
              "      <td>None</td>\n",
              "      <td>UKHO</td>\n",
              "      <td>QUBSAC 2005</td>\n",
              "      <td>SSS, diver (QUB; 2003-04)</td>\n",
              "      <td>5100</td>\n",
              "      <td>-5.629383</td>\n",
              "      <td>54.451550</td>\n",
              "      <td>None</td>\n",
              "      <td>None</td>\n",
              "      <td>None</td>\n",
              "      <td>None</td>\n",
              "      <td>None</td>\n",
              "      <td>None</td>\n",
              "      <td>None</td>\n",
              "      <td>POINT (-5.62938 54.45155)</td>\n",
              "    </tr>\n",
              "    <tr>\n",
              "      <th>2</th>\n",
              "      <td>Albia (poss.)</td>\n",
              "      <td>28/09/1929</td>\n",
              "      <td>Spanish tramp steamer</td>\n",
              "      <td>Copper ore</td>\n",
              "      <td>10m</td>\n",
              "      <td>Approximate</td>\n",
              "      <td>5m high, upright.</td>\n",
              "      <td>IRW, UKHO, CMA</td>\n",
              "      <td>LIVE</td>\n",
              "      <td>None</td>\n",
              "      <td>IRW: Position differs from UKHO (DEAD)</td>\n",
              "      <td>IRW</td>\n",
              "      <td>None</td>\n",
              "      <td>5187</td>\n",
              "      <td>-5.741317</td>\n",
              "      <td>54.949933</td>\n",
              "      <td>None</td>\n",
              "      <td>None</td>\n",
              "      <td>None</td>\n",
              "      <td>None</td>\n",
              "      <td>None</td>\n",
              "      <td>None</td>\n",
              "      <td>None</td>\n",
              "      <td>POINT (-5.74132 54.94993)</td>\n",
              "    </tr>\n",
              "    <tr>\n",
              "      <th>3</th>\n",
              "      <td>Alcedo</td>\n",
              "      <td>??/01/1892</td>\n",
              "      <td>Steam coaster</td>\n",
              "      <td>Coal</td>\n",
              "      <td>7m</td>\n",
              "      <td>Approximate</td>\n",
              "      <td>2.5m high, badly broken up</td>\n",
              "      <td>IRW, CMA</td>\n",
              "      <td>LIVE</td>\n",
              "      <td>None</td>\n",
              "      <td>IRW</td>\n",
              "      <td>IRW</td>\n",
              "      <td>None</td>\n",
              "      <td>0</td>\n",
              "      <td>-5.696200</td>\n",
              "      <td>54.815483</td>\n",
              "      <td>None</td>\n",
              "      <td>None</td>\n",
              "      <td>None</td>\n",
              "      <td>None</td>\n",
              "      <td>None</td>\n",
              "      <td>None</td>\n",
              "      <td>None</td>\n",
              "      <td>POINT (-5.69620 54.81548)</td>\n",
              "    </tr>\n",
              "    <tr>\n",
              "      <th>4</th>\n",
              "      <td>Alder</td>\n",
              "      <td>None</td>\n",
              "      <td>None</td>\n",
              "      <td>None</td>\n",
              "      <td>-3m</td>\n",
              "      <td>Approximate</td>\n",
              "      <td>None</td>\n",
              "      <td>UKHO</td>\n",
              "      <td>LIFT</td>\n",
              "      <td>Wreck removed 1938</td>\n",
              "      <td>UKHO: 108deg 7.9C from Greenore jetty</td>\n",
              "      <td>None</td>\n",
              "      <td>None</td>\n",
              "      <td>64999</td>\n",
              "      <td>-6.098500</td>\n",
              "      <td>54.053217</td>\n",
              "      <td>None</td>\n",
              "      <td>None</td>\n",
              "      <td>None</td>\n",
              "      <td>None</td>\n",
              "      <td>None</td>\n",
              "      <td>None</td>\n",
              "      <td>None</td>\n",
              "      <td>POINT (-6.09850 54.05322)</td>\n",
              "    </tr>\n",
              "  </tbody>\n",
              "</table>\n",
              "</div>"
            ],
            "text/plain": [
              "               Name   Date_lost  ... Where_lost                   geometry\n",
              "0             Ailsa  26/02/1892  ...       None  POINT (-5.73822 54.85250)\n",
              "1  (ex HMS) Alastor  11/03/1946  ...       None  POINT (-5.62938 54.45155)\n",
              "2     Albia (poss.)  28/09/1929  ...       None  POINT (-5.74132 54.94993)\n",
              "3            Alcedo  ??/01/1892  ...       None  POINT (-5.69620 54.81548)\n",
              "4             Alder        None  ...       None  POINT (-6.09850 54.05322)\n",
              "\n",
              "[5 rows x 24 columns]"
            ]
          },
          "metadata": {
            "tags": []
          },
          "execution_count": 16
        }
      ]
    },
    {
      "cell_type": "code",
      "metadata": {
        "id": "mw-iLiX8Lszh",
        "colab_type": "code",
        "colab": {
          "base_uri": "https://localhost:8080/",
          "height": 286
        },
        "outputId": "35bc1a12-256a-410b-c48b-5e13406e2053"
      },
      "source": [
        "df.plot()"
      ],
      "execution_count": 18,
      "outputs": [
        {
          "output_type": "execute_result",
          "data": {
            "text/plain": [
              "<matplotlib.axes._subplots.AxesSubplot at 0x7f07bc3a4940>"
            ]
          },
          "metadata": {
            "tags": []
          },
          "execution_count": 18
        },
        {
          "output_type": "display_data",
          "data": {
            "image/png": "[encoded data removed]",
            "text/plain": [
              "<Figure size 432x288 with 1 Axes>"
            ]
          },
          "metadata": {
            "tags": []
          }
        }
      ]
    }
  ]
}